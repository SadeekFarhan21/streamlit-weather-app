{
 "cells": [
  {
   "cell_type": "code",
   "execution_count": 2,
   "metadata": {},
   "outputs": [],
   "source": [
    "url = 'https://api.openweathermap.org/data/2.5/weather?q=Berlin&units=Imperial&appid=020c12648e069ecb0279375775a4e662'"
   ]
  },
  {
   "cell_type": "code",
   "execution_count": 3,
   "metadata": {},
   "outputs": [],
   "source": [
    "import requests\n",
    "response = requests.get(url)"
   ]
  },
  {
   "cell_type": "code",
   "execution_count": 4,
   "metadata": {},
   "outputs": [
    {
     "data": {
      "text/plain": [
       "{'coord': {'lon': 13.4105, 'lat': 52.5244},\n",
       " 'weather': [{'id': 800,\n",
       "   'main': 'Clear',\n",
       "   'description': 'clear sky',\n",
       "   'icon': '01d'}],\n",
       " 'base': 'stations',\n",
       " 'main': {'temp': 61.36,\n",
       "  'feels_like': 58.93,\n",
       "  'temp_min': 59.99,\n",
       "  'temp_max': 62.98,\n",
       "  'pressure': 1005,\n",
       "  'humidity': 37},\n",
       " 'visibility': 10000,\n",
       " 'wind': {'speed': 18.99, 'deg': 292, 'gust': 32.01},\n",
       " 'clouds': {'all': 0},\n",
       " 'dt': 1713111072,\n",
       " 'sys': {'type': 2,\n",
       "  'id': 2011538,\n",
       "  'country': 'DE',\n",
       "  'sunrise': 1713067796,\n",
       "  'sunset': 1713117765},\n",
       " 'timezone': 7200,\n",
       " 'id': 2950159,\n",
       " 'name': 'Berlin',\n",
       " 'cod': 200}"
      ]
     },
     "execution_count": 4,
     "metadata": {},
     "output_type": "execute_result"
    }
   ],
   "source": [
    "response.json()"
   ]
  },
  {
   "cell_type": "code",
   "execution_count": 6,
   "metadata": {},
   "outputs": [
    {
     "data": {
      "text/plain": [
       "{'temp': 61.36,\n",
       " 'feels_like': 58.93,\n",
       " 'temp_min': 59.99,\n",
       " 'temp_max': 62.98,\n",
       " 'pressure': 1005,\n",
       " 'humidity': 37}"
      ]
     },
     "execution_count": 6,
     "metadata": {},
     "output_type": "execute_result"
    }
   ],
   "source": [
    "response.json()['main']"
   ]
  },
  {
   "cell_type": "code",
   "execution_count": 8,
   "metadata": {},
   "outputs": [
    {
     "data": {
      "text/html": [
       "        <script type=\"text/javascript\">\n",
       "        window.PlotlyConfig = {MathJaxConfig: 'local'};\n",
       "        if (window.MathJax && window.MathJax.Hub && window.MathJax.Hub.Config) {window.MathJax.Hub.Config({SVG: {font: \"STIX-Web\"}});}\n",
       "        if (typeof require !== 'undefined') {\n",
       "        require.undef(\"plotly\");\n",
       "        requirejs.config({\n",
       "            paths: {\n",
       "                'plotly': ['https://cdn.plot.ly/plotly-2.20.0.min']\n",
       "            }\n",
       "        });\n",
       "        require(['plotly'], function(Plotly) {\n",
       "            window._Plotly = Plotly;\n",
       "        });\n",
       "        }\n",
       "        </script>\n",
       "        "
      ]
     },
     "metadata": {},
     "output_type": "display_data"
    },
    {
     "data": {
      "text/html": [
       "<div>                            <div id=\"be3bd2fd-6243-4322-867f-62d73cb13f49\" class=\"plotly-graph-div\" style=\"height:525px; width:100%;\"></div>            <script type=\"text/javascript\">                require([\"plotly\"], function(Plotly) {                    window.PLOTLYENV=window.PLOTLYENV || {};                                    if (document.getElementById(\"be3bd2fd-6243-4322-867f-62d73cb13f49\")) {                    Plotly.newPlot(                        \"be3bd2fd-6243-4322-867f-62d73cb13f49\",                        [{\"geo\":\"geo\",\"hovertemplate\":\"<b>%{hovertext}</b><br><br>Value=%{marker.color}<br>Latitude=%{lat}<br>Longitude=%{lon}<extra></extra>\",\"hovertext\":[71.0,72.0,19.0,93.0,44.0,84.0,50.0,42.0,94.0,47.0,22.0,74.0,90.0,97.0,92.0,74.0,29.0,82.0,59.0,1.0,87.0,64.0,17.0,37.0,95.0,25.0,64.0,68.0,52.0,9.0,57.0,92.0,94.0,88.0,33.0,20.0,73.0,72.0,88.0,14.0,59.0,82.0,56.0,65.0,76.0,93.0,37.0,26.0,33.0,43.0,15.0,87.0,29.0,21.0,83.0,69.0,23.0,84.0,8.0,73.0,62.0,14.0,6.0,1.0,9.0,80.0,80.0,54.0,12.0,5.0,40.0,93.0,46.0,27.0,75.0,53.0,50.0,92.0,52.0,19.0,35.0,52.0,31.0,54.0,59.0,44.0,56.0,19.0,46.0,88.0,66.0,71.0,54.0,49.0,95.0,60.0,81.0,27.0,36.0,59.0],\"lat\":[8.786430706918452,38.73408594703551,18.49740769289589,8.078972939441442,-13.742136118997152,26.2609403519981,-11.234301972715343,70.51914014077437,83.45929689018527,-20.98052661136002,52.51050685487962,5.201085555522809,12.248020996907812,76.607394892679,-77.21350952438036,-74.31672605372268,-86.36068846074137,59.871572198628826,50.068215170973076,66.60218668442744,86.15130160189753,53.84854155901024,-6.933714794472266,50.49525173156198,-68.71060334359203,25.185783838954293,-64.19640826637165,80.04040506892511,3.932697915012895,-15.360850801705752,-42.37998982116714,49.36206409815901,-7.892940201021261,12.318110796356734,-86.61783592145608,21.174389473657868,20.17723009003585,21.04811943745625,79.87465413263234,32.72765383862702,-25.28857789671852,-11.334248316118533,35.57361526690768,-79.15941510673143,30.018008780220185,30.714816531268696,-52.131139006708636,-66.79326642212641,-33.22289683364691,-24.532061230327926,12.635418675218332,-11.05172757678234,87.9072908506607,-71.63193406535495,-52.40218390292976,-60.964286780700675,27.559498583771713,-44.40751154283922,-6.064060885864862,-46.00339343971151,-61.38547494380645,-70.13247459042508,28.139326103749212,-65.12706875724952,-54.61517489759037,-23.62946928102646,57.778781372628316,-72.52177035724897,60.8300833497847,-72.70228657908665,85.76270370241124,-5.642783703413713,85.8169958742607,18.87219355410828,43.0674442916943,-82.94619739422228,-39.09474673624628,-68.3646189816296,-36.69476444601391,-68.62901058823607,-32.76302770908431,-15.432660987359412,-78.45345065721881,34.64498148660357,11.988261757183523,-42.22989163089983,4.184649624005942,-73.09070806348049,13.670369200112276,77.27331556371854,-32.65758855876174,30.133868393462706,-66.27638476720941,38.93889674134181,-37.9069032695038,-57.02555483871897,15.572328265814974,-86.38064168625117,59.209205259125355,-89.15481428534153],\"legendgroup\":\"\",\"lon\":[64.01395324664284,-82.79712965082065,84.66984796413414,166.38787624227774,-90.44886833281511,27.416640390421293,33.13509525786205,26.010686084714422,-99.69061224937741,162.98964414611459,-19.034863697654146,124.707122089606,71.81253911430156,-72.92269769215189,112.96721509289182,-37.257933295085536,137.19715096001818,29.25823414890914,137.424730267747,69.3113724279957,81.09154073507057,0.47677749361281485,164.19010850036062,51.83647172266947,-27.412182519055307,38.30155708605275,-173.09044860863992,-71.43306599716225,57.66247349736662,-75.57206140424013,42.485554439582955,-25.643267659524184,-131.22933687991792,-72.61836265582892,25.187367852455367,32.71419404934235,26.757089585848377,55.1522951485681,54.757177200608,-24.689363243769378,142.75677450638267,-47.67772678275725,-23.088626904374337,141.09240780564198,110.22983605659084,73.39989007453187,-143.91832056757158,151.0137409480825,77.1268678376801,179.58492236443192,-126.19861032312225,132.52538065255715,-121.50254351650506,41.60144314218391,-135.42480617420105,125.2829625560044,110.63482514100383,24.87626590125359,-33.41401299864012,-155.09988163615031,71.07435833204292,-16.724634235895223,79.94001580932525,131.89763733430652,171.1877418010389,128.08920326133995,-175.7829296933993,-50.407896787789014,82.79660247266088,-118.21331618588141,7.573178233486544,-160.4383241978687,-108.00125103729597,-173.33215399417898,105.73117320867141,-99.38711229826315,-55.673394949115036,154.1092656476127,73.5891846924718,-168.53798536872918,-120.71010366075141,43.73222453991488,27.80229189750034,-94.35858430517689,156.31703925292578,41.02774414772256,12.827809088984992,32.36759148764554,82.84393062603709,-67.69980162734333,-36.640417602206924,-104.45625036895603,-112.97051788307898,159.9740603942161,86.23828621774351,-3.4348288976758568,-98.13073392960364,-88.43166656265853,-159.10950228340477,-23.61001479907651],\"marker\":{\"color\":[71,72,19,93,44,84,50,42,94,47,22,74,90,97,92,74,29,82,59,1,87,64,17,37,95,25,64,68,52,9,57,92,94,88,33,20,73,72,88,14,59,82,56,65,76,93,37,26,33,43,15,87,29,21,83,69,23,84,8,73,62,14,6,1,9,80,80,54,12,5,40,93,46,27,75,53,50,92,52,19,35,52,31,54,59,44,56,19,46,88,66,71,54,49,95,60,81,27,36,59],\"coloraxis\":\"coloraxis\",\"size\":[71,72,19,93,44,84,50,42,94,47,22,74,90,97,92,74,29,82,59,1,87,64,17,37,95,25,64,68,52,9,57,92,94,88,33,20,73,72,88,14,59,82,56,65,76,93,37,26,33,43,15,87,29,21,83,69,23,84,8,73,62,14,6,1,9,80,80,54,12,5,40,93,46,27,75,53,50,92,52,19,35,52,31,54,59,44,56,19,46,88,66,71,54,49,95,60,81,27,36,59],\"sizemode\":\"area\",\"sizeref\":0.2425,\"symbol\":\"circle\"},\"mode\":\"markers\",\"name\":\"\",\"showlegend\":false,\"type\":\"scattergeo\"}],                        {\"template\":{\"data\":{\"histogram2dcontour\":[{\"type\":\"histogram2dcontour\",\"colorbar\":{\"outlinewidth\":0,\"ticks\":\"\"},\"colorscale\":[[0.0,\"#0d0887\"],[0.1111111111111111,\"#46039f\"],[0.2222222222222222,\"#7201a8\"],[0.3333333333333333,\"#9c179e\"],[0.4444444444444444,\"#bd3786\"],[0.5555555555555556,\"#d8576b\"],[0.6666666666666666,\"#ed7953\"],[0.7777777777777778,\"#fb9f3a\"],[0.8888888888888888,\"#fdca26\"],[1.0,\"#f0f921\"]]}],\"choropleth\":[{\"type\":\"choropleth\",\"colorbar\":{\"outlinewidth\":0,\"ticks\":\"\"}}],\"histogram2d\":[{\"type\":\"histogram2d\",\"colorbar\":{\"outlinewidth\":0,\"ticks\":\"\"},\"colorscale\":[[0.0,\"#0d0887\"],[0.1111111111111111,\"#46039f\"],[0.2222222222222222,\"#7201a8\"],[0.3333333333333333,\"#9c179e\"],[0.4444444444444444,\"#bd3786\"],[0.5555555555555556,\"#d8576b\"],[0.6666666666666666,\"#ed7953\"],[0.7777777777777778,\"#fb9f3a\"],[0.8888888888888888,\"#fdca26\"],[1.0,\"#f0f921\"]]}],\"heatmap\":[{\"type\":\"heatmap\",\"colorbar\":{\"outlinewidth\":0,\"ticks\":\"\"},\"colorscale\":[[0.0,\"#0d0887\"],[0.1111111111111111,\"#46039f\"],[0.2222222222222222,\"#7201a8\"],[0.3333333333333333,\"#9c179e\"],[0.4444444444444444,\"#bd3786\"],[0.5555555555555556,\"#d8576b\"],[0.6666666666666666,\"#ed7953\"],[0.7777777777777778,\"#fb9f3a\"],[0.8888888888888888,\"#fdca26\"],[1.0,\"#f0f921\"]]}],\"heatmapgl\":[{\"type\":\"heatmapgl\",\"colorbar\":{\"outlinewidth\":0,\"ticks\":\"\"},\"colorscale\":[[0.0,\"#0d0887\"],[0.1111111111111111,\"#46039f\"],[0.2222222222222222,\"#7201a8\"],[0.3333333333333333,\"#9c179e\"],[0.4444444444444444,\"#bd3786\"],[0.5555555555555556,\"#d8576b\"],[0.6666666666666666,\"#ed7953\"],[0.7777777777777778,\"#fb9f3a\"],[0.8888888888888888,\"#fdca26\"],[1.0,\"#f0f921\"]]}],\"contourcarpet\":[{\"type\":\"contourcarpet\",\"colorbar\":{\"outlinewidth\":0,\"ticks\":\"\"}}],\"contour\":[{\"type\":\"contour\",\"colorbar\":{\"outlinewidth\":0,\"ticks\":\"\"},\"colorscale\":[[0.0,\"#0d0887\"],[0.1111111111111111,\"#46039f\"],[0.2222222222222222,\"#7201a8\"],[0.3333333333333333,\"#9c179e\"],[0.4444444444444444,\"#bd3786\"],[0.5555555555555556,\"#d8576b\"],[0.6666666666666666,\"#ed7953\"],[0.7777777777777778,\"#fb9f3a\"],[0.8888888888888888,\"#fdca26\"],[1.0,\"#f0f921\"]]}],\"surface\":[{\"type\":\"surface\",\"colorbar\":{\"outlinewidth\":0,\"ticks\":\"\"},\"colorscale\":[[0.0,\"#0d0887\"],[0.1111111111111111,\"#46039f\"],[0.2222222222222222,\"#7201a8\"],[0.3333333333333333,\"#9c179e\"],[0.4444444444444444,\"#bd3786\"],[0.5555555555555556,\"#d8576b\"],[0.6666666666666666,\"#ed7953\"],[0.7777777777777778,\"#fb9f3a\"],[0.8888888888888888,\"#fdca26\"],[1.0,\"#f0f921\"]]}],\"mesh3d\":[{\"type\":\"mesh3d\",\"colorbar\":{\"outlinewidth\":0,\"ticks\":\"\"}}],\"scatter\":[{\"fillpattern\":{\"fillmode\":\"overlay\",\"size\":10,\"solidity\":0.2},\"type\":\"scatter\"}],\"parcoords\":[{\"type\":\"parcoords\",\"line\":{\"colorbar\":{\"outlinewidth\":0,\"ticks\":\"\"}}}],\"scatterpolargl\":[{\"type\":\"scatterpolargl\",\"marker\":{\"colorbar\":{\"outlinewidth\":0,\"ticks\":\"\"}}}],\"bar\":[{\"error_x\":{\"color\":\"#2a3f5f\"},\"error_y\":{\"color\":\"#2a3f5f\"},\"marker\":{\"line\":{\"color\":\"#E5ECF6\",\"width\":0.5},\"pattern\":{\"fillmode\":\"overlay\",\"size\":10,\"solidity\":0.2}},\"type\":\"bar\"}],\"scattergeo\":[{\"type\":\"scattergeo\",\"marker\":{\"colorbar\":{\"outlinewidth\":0,\"ticks\":\"\"}}}],\"scatterpolar\":[{\"type\":\"scatterpolar\",\"marker\":{\"colorbar\":{\"outlinewidth\":0,\"ticks\":\"\"}}}],\"histogram\":[{\"marker\":{\"pattern\":{\"fillmode\":\"overlay\",\"size\":10,\"solidity\":0.2}},\"type\":\"histogram\"}],\"scattergl\":[{\"type\":\"scattergl\",\"marker\":{\"colorbar\":{\"outlinewidth\":0,\"ticks\":\"\"}}}],\"scatter3d\":[{\"type\":\"scatter3d\",\"line\":{\"colorbar\":{\"outlinewidth\":0,\"ticks\":\"\"}},\"marker\":{\"colorbar\":{\"outlinewidth\":0,\"ticks\":\"\"}}}],\"scattermapbox\":[{\"type\":\"scattermapbox\",\"marker\":{\"colorbar\":{\"outlinewidth\":0,\"ticks\":\"\"}}}],\"scatterternary\":[{\"type\":\"scatterternary\",\"marker\":{\"colorbar\":{\"outlinewidth\":0,\"ticks\":\"\"}}}],\"scattercarpet\":[{\"type\":\"scattercarpet\",\"marker\":{\"colorbar\":{\"outlinewidth\":0,\"ticks\":\"\"}}}],\"carpet\":[{\"aaxis\":{\"endlinecolor\":\"#2a3f5f\",\"gridcolor\":\"white\",\"linecolor\":\"white\",\"minorgridcolor\":\"white\",\"startlinecolor\":\"#2a3f5f\"},\"baxis\":{\"endlinecolor\":\"#2a3f5f\",\"gridcolor\":\"white\",\"linecolor\":\"white\",\"minorgridcolor\":\"white\",\"startlinecolor\":\"#2a3f5f\"},\"type\":\"carpet\"}],\"table\":[{\"cells\":{\"fill\":{\"color\":\"#EBF0F8\"},\"line\":{\"color\":\"white\"}},\"header\":{\"fill\":{\"color\":\"#C8D4E3\"},\"line\":{\"color\":\"white\"}},\"type\":\"table\"}],\"barpolar\":[{\"marker\":{\"line\":{\"color\":\"#E5ECF6\",\"width\":0.5},\"pattern\":{\"fillmode\":\"overlay\",\"size\":10,\"solidity\":0.2}},\"type\":\"barpolar\"}],\"pie\":[{\"automargin\":true,\"type\":\"pie\"}]},\"layout\":{\"autotypenumbers\":\"strict\",\"colorway\":[\"#636efa\",\"#EF553B\",\"#00cc96\",\"#ab63fa\",\"#FFA15A\",\"#19d3f3\",\"#FF6692\",\"#B6E880\",\"#FF97FF\",\"#FECB52\"],\"font\":{\"color\":\"#2a3f5f\"},\"hovermode\":\"closest\",\"hoverlabel\":{\"align\":\"left\"},\"paper_bgcolor\":\"white\",\"plot_bgcolor\":\"#E5ECF6\",\"polar\":{\"bgcolor\":\"#E5ECF6\",\"angularaxis\":{\"gridcolor\":\"white\",\"linecolor\":\"white\",\"ticks\":\"\"},\"radialaxis\":{\"gridcolor\":\"white\",\"linecolor\":\"white\",\"ticks\":\"\"}},\"ternary\":{\"bgcolor\":\"#E5ECF6\",\"aaxis\":{\"gridcolor\":\"white\",\"linecolor\":\"white\",\"ticks\":\"\"},\"baxis\":{\"gridcolor\":\"white\",\"linecolor\":\"white\",\"ticks\":\"\"},\"caxis\":{\"gridcolor\":\"white\",\"linecolor\":\"white\",\"ticks\":\"\"}},\"coloraxis\":{\"colorbar\":{\"outlinewidth\":0,\"ticks\":\"\"}},\"colorscale\":{\"sequential\":[[0.0,\"#0d0887\"],[0.1111111111111111,\"#46039f\"],[0.2222222222222222,\"#7201a8\"],[0.3333333333333333,\"#9c179e\"],[0.4444444444444444,\"#bd3786\"],[0.5555555555555556,\"#d8576b\"],[0.6666666666666666,\"#ed7953\"],[0.7777777777777778,\"#fb9f3a\"],[0.8888888888888888,\"#fdca26\"],[1.0,\"#f0f921\"]],\"sequentialminus\":[[0.0,\"#0d0887\"],[0.1111111111111111,\"#46039f\"],[0.2222222222222222,\"#7201a8\"],[0.3333333333333333,\"#9c179e\"],[0.4444444444444444,\"#bd3786\"],[0.5555555555555556,\"#d8576b\"],[0.6666666666666666,\"#ed7953\"],[0.7777777777777778,\"#fb9f3a\"],[0.8888888888888888,\"#fdca26\"],[1.0,\"#f0f921\"]],\"diverging\":[[0,\"#8e0152\"],[0.1,\"#c51b7d\"],[0.2,\"#de77ae\"],[0.3,\"#f1b6da\"],[0.4,\"#fde0ef\"],[0.5,\"#f7f7f7\"],[0.6,\"#e6f5d0\"],[0.7,\"#b8e186\"],[0.8,\"#7fbc41\"],[0.9,\"#4d9221\"],[1,\"#276419\"]]},\"xaxis\":{\"gridcolor\":\"white\",\"linecolor\":\"white\",\"ticks\":\"\",\"title\":{\"standoff\":15},\"zerolinecolor\":\"white\",\"automargin\":true,\"zerolinewidth\":2},\"yaxis\":{\"gridcolor\":\"white\",\"linecolor\":\"white\",\"ticks\":\"\",\"title\":{\"standoff\":15},\"zerolinecolor\":\"white\",\"automargin\":true,\"zerolinewidth\":2},\"scene\":{\"xaxis\":{\"backgroundcolor\":\"#E5ECF6\",\"gridcolor\":\"white\",\"linecolor\":\"white\",\"showbackground\":true,\"ticks\":\"\",\"zerolinecolor\":\"white\",\"gridwidth\":2},\"yaxis\":{\"backgroundcolor\":\"#E5ECF6\",\"gridcolor\":\"white\",\"linecolor\":\"white\",\"showbackground\":true,\"ticks\":\"\",\"zerolinecolor\":\"white\",\"gridwidth\":2},\"zaxis\":{\"backgroundcolor\":\"#E5ECF6\",\"gridcolor\":\"white\",\"linecolor\":\"white\",\"showbackground\":true,\"ticks\":\"\",\"zerolinecolor\":\"white\",\"gridwidth\":2}},\"shapedefaults\":{\"line\":{\"color\":\"#2a3f5f\"}},\"annotationdefaults\":{\"arrowcolor\":\"#2a3f5f\",\"arrowhead\":0,\"arrowwidth\":1},\"geo\":{\"bgcolor\":\"white\",\"landcolor\":\"#E5ECF6\",\"subunitcolor\":\"white\",\"showland\":true,\"showlakes\":true,\"lakecolor\":\"white\"},\"title\":{\"x\":0.05},\"mapbox\":{\"style\":\"light\"}}},\"geo\":{\"domain\":{\"x\":[0.0,1.0],\"y\":[0.0,1.0]},\"projection\":{\"type\":\"natural earth\"},\"center\":{}},\"coloraxis\":{\"colorbar\":{\"title\":{\"text\":\"Value\"}},\"colorscale\":[[0.0,\"#0d0887\"],[0.1111111111111111,\"#46039f\"],[0.2222222222222222,\"#7201a8\"],[0.3333333333333333,\"#9c179e\"],[0.4444444444444444,\"#bd3786\"],[0.5555555555555556,\"#d8576b\"],[0.6666666666666666,\"#ed7953\"],[0.7777777777777778,\"#fb9f3a\"],[0.8888888888888888,\"#fdca26\"],[1.0,\"#f0f921\"]]},\"legend\":{\"tracegroupgap\":0,\"itemsizing\":\"constant\"},\"margin\":{\"t\":60}},                        {\"responsive\": true}                    ).then(function(){\n",
       "                            \n",
       "var gd = document.getElementById('be3bd2fd-6243-4322-867f-62d73cb13f49');\n",
       "var x = new MutationObserver(function (mutations, observer) {{\n",
       "        var display = window.getComputedStyle(gd).display;\n",
       "        if (!display || display === 'none') {{\n",
       "            console.log([gd, 'removed!']);\n",
       "            Plotly.purge(gd);\n",
       "            observer.disconnect();\n",
       "        }}\n",
       "}});\n",
       "\n",
       "// Listen for the removal of the full notebook cells\n",
       "var notebookContainer = gd.closest('#notebook-container');\n",
       "if (notebookContainer) {{\n",
       "    x.observe(notebookContainer, {childList: true});\n",
       "}}\n",
       "\n",
       "// Listen for the clearing of the current output cell\n",
       "var outputEl = gd.closest('.output');\n",
       "if (outputEl) {{\n",
       "    x.observe(outputEl, {childList: true});\n",
       "}}\n",
       "\n",
       "                        })                };                });            </script>        </div>"
      ]
     },
     "metadata": {},
     "output_type": "display_data"
    }
   ],
   "source": [
    "import numpy as np\n",
    "import pandas as pd\n",
    "import plotly.express as px\n",
    "\n",
    "# Generate random data\n",
    "np.random.seed(0)\n",
    "num_points = 100\n",
    "data = {\n",
    "    'Latitude': np.random.uniform(low=-90, high=90, size=num_points),\n",
    "    'Longitude': np.random.uniform(low=-180, high=180, size=num_points),\n",
    "    'Value': np.random.randint(low=1, high=100, size=num_points)\n",
    "}\n",
    "\n",
    "# Create a DataFrame\n",
    "df = pd.DataFrame(data)\n",
    "\n",
    "# Plot the data on a map\n",
    "fig = px.scatter_geo(df, lat='Latitude', lon='Longitude', color='Value', size='Value',\n",
    "                     hover_name='Value', projection='natural earth')\n",
    "fig.show()\n"
   ]
  }
 ],
 "metadata": {
  "kernelspec": {
   "display_name": "Python 3",
   "language": "python",
   "name": "python3"
  },
  "language_info": {
   "codemirror_mode": {
    "name": "ipython",
    "version": 3
   },
   "file_extension": ".py",
   "mimetype": "text/x-python",
   "name": "python",
   "nbconvert_exporter": "python",
   "pygments_lexer": "ipython3",
   "version": "3.11.7"
  }
 },
 "nbformat": 4,
 "nbformat_minor": 2
}
